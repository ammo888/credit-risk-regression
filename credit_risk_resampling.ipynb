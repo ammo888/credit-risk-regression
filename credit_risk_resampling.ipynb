{
  "cells": [
    {
      "cell_type": "markdown",
      "metadata": {
        "id": "jofCrpgemQ8K"
      },
      "source": [
        "# Credit Risk Classification\n",
        "\n",
        "Credit risk poses a classification problem that’s inherently imbalanced. This is because healthy loans easily outnumber risky loans. In this Challenge, you’ll use various techniques to train and evaluate models with imbalanced classes. You’ll use a dataset of historical lending activity from a peer-to-peer lending services company to build a model that can identify the creditworthiness of borrowers.\n",
        "\n",
        "## Instructions:\n",
        "\n",
        "This challenge consists of the following subsections:\n",
        "\n",
        "* Split the Data into Training and Testing Sets\n",
        "\n",
        "* Create a Logistic Regression Model with the Original Data\n",
        "\n",
        "* Predict a Logistic Regression Model with Resampled Training Data \n",
        "\n",
        "### Split the Data into Training and Testing Sets\n",
        "\n",
        "Open the starter code notebook and then use it to complete the following steps.\n",
        "\n",
        "1. Read the `lending_data.csv` data from the `Resources` folder into a Pandas DataFrame.\n",
        "\n",
        "2. Create the labels set (`y`)  from the “loan_status” column, and then create the features (`X`) DataFrame from the remaining columns.\n",
        "\n",
        "    > **Note** A value of `0` in the “loan_status” column means that the loan is healthy. A value of `1` means that the loan has a high risk of defaulting.  \n",
        "\n",
        "3. Check the balance of the labels variable (`y`) by using the `value_counts` function.\n",
        "\n",
        "4. Split the data into training and testing datasets by using `train_test_split`.\n",
        "\n",
        "### Create a Logistic Regression Model with the Original Data\n",
        "\n",
        "Employ your knowledge of logistic regression to complete the following steps:\n",
        "\n",
        "1. Fit a logistic regression model by using the training data (`X_train` and `y_train`).\n",
        "\n",
        "2. Save the predictions on the testing data labels by using the testing feature data (`X_test`) and the fitted model.\n",
        "\n",
        "3. Evaluate the model’s performance by doing the following:\n",
        "\n",
        "    * Calculate the accuracy score of the model.\n",
        "\n",
        "    * Generate a confusion matrix.\n",
        "\n",
        "    * Print the classification report.\n",
        "\n",
        "4. Answer the following question: How well does the logistic regression model predict both the `0` (healthy loan) and `1` (high-risk loan) labels?\n",
        "\n",
        "### Predict a Logistic Regression Model with Resampled Training Data\n",
        "\n",
        "Did you notice the small number of high-risk loan labels? Perhaps, a model that uses resampled data will perform better. You’ll thus resample the training data and then reevaluate the model. Specifically, you’ll use `RandomOverSampler`.\n",
        "\n",
        "To do so, complete the following steps:\n",
        "\n",
        "1. Use the `RandomOverSampler` module from the imbalanced-learn library to resample the data. Be sure to confirm that the labels have an equal number of data points. \n",
        "\n",
        "2. Use the `LogisticRegression` classifier and the resampled data to fit the model and make predictions.\n",
        "\n",
        "3. Evaluate the model’s performance by doing the following:\n",
        "\n",
        "    * Calculate the accuracy score of the model.\n",
        "\n",
        "    * Generate a confusion matrix.\n",
        "\n",
        "    * Print the classification report.\n",
        "    \n",
        "4. Answer the following question: How well does the logistic regression model, fit with oversampled data, predict both the `0` (healthy loan) and `1` (high-risk loan) labels?\n",
        "\n",
        "### Write a Credit Risk Analysis Report\n",
        "\n",
        "For this section, you’ll write a brief report that includes a summary and an analysis of the performance of both machine learning models that you used in this challenge. You should write this report as the `README.md` file included in your GitHub repository.\n",
        "\n",
        "Structure your report by using the report template that `Starter_Code.zip` includes, and make sure that it contains the following:\n",
        "\n",
        "1. An overview of the analysis: Explain the purpose of this analysis.\n",
        "\n",
        "\n",
        "2. The results: Using bulleted lists, describe the balanced accuracy scores and the precision and recall scores of both machine learning models.\n",
        "\n",
        "3. A summary: Summarize the results from the machine learning models. Compare the two versions of the dataset predictions. Include your recommendation for the model to use, if any, on the original vs. the resampled data. If you don’t recommend either model, justify your reasoning."
      ]
    },
    {
      "cell_type": "code",
      "execution_count": 1,
      "metadata": {
        "id": "4HLbNiBkmQ8O"
      },
      "outputs": [],
      "source": [
        "# Import the modules\n",
        "import numpy as np\n",
        "import pandas as pd\n",
        "from pathlib import Path\n",
        "from sklearn.metrics import balanced_accuracy_score\n",
        "from sklearn.metrics import confusion_matrix\n",
        "from imblearn.metrics import classification_report_imbalanced\n",
        "\n",
        "import warnings\n",
        "warnings.filterwarnings('ignore')"
      ]
    },
    {
      "cell_type": "markdown",
      "metadata": {
        "id": "9KIla1WLmQ8P"
      },
      "source": [
        "---"
      ]
    },
    {
      "cell_type": "markdown",
      "metadata": {
        "id": "qvq4sUl0mQ8Q"
      },
      "source": [
        "## Split the Data into Training and Testing Sets"
      ]
    },
    {
      "cell_type": "markdown",
      "metadata": {
        "id": "qHYAl_qdmQ8Q"
      },
      "source": [
        "### Step 1: Read the `lending_data.csv` data from the `Resources` folder into a Pandas DataFrame."
      ]
    },
    {
      "cell_type": "code",
      "execution_count": 2,
      "metadata": {
        "colab": {
          "base_uri": "https://localhost:8080/",
          "height": 424
        },
        "id": "cnfxsJRVmQ8Q",
        "outputId": "0d91ec06-2899-4c5d-99da-96e07ba547d2"
      },
      "outputs": [
        {
          "output_type": "execute_result",
          "data": {
            "text/plain": [
              "       loan_size  interest_rate  borrower_income  debt_to_income  \\\n",
              "0        10700.0          7.672            52800        0.431818   \n",
              "1         8400.0          6.692            43600        0.311927   \n",
              "2         9000.0          6.963            46100        0.349241   \n",
              "3        10700.0          7.664            52700        0.430740   \n",
              "4        10800.0          7.698            53000        0.433962   \n",
              "...          ...            ...              ...             ...   \n",
              "77531    19100.0         11.261            86600        0.653580   \n",
              "77532    17700.0         10.662            80900        0.629172   \n",
              "77533    17600.0         10.595            80300        0.626401   \n",
              "77534    16300.0         10.068            75300        0.601594   \n",
              "77535    15600.0          9.742            72300        0.585062   \n",
              "\n",
              "       num_of_accounts  derogatory_marks  total_debt  loan_status  \n",
              "0                    5                 1       22800            0  \n",
              "1                    3                 0       13600            0  \n",
              "2                    3                 0       16100            0  \n",
              "3                    5                 1       22700            0  \n",
              "4                    5                 1       23000            0  \n",
              "...                ...               ...         ...          ...  \n",
              "77531               12                 2       56600            1  \n",
              "77532               11                 2       50900            1  \n",
              "77533               11                 2       50300            1  \n",
              "77534               10                 2       45300            1  \n",
              "77535                9                 2       42300            1  \n",
              "\n",
              "[77536 rows x 8 columns]"
            ],
            "text/html": [
              "\n",
              "  <div id=\"df-03ecd550-fc80-41df-a600-8e8047146949\">\n",
              "    <div class=\"colab-df-container\">\n",
              "      <div>\n",
              "<style scoped>\n",
              "    .dataframe tbody tr th:only-of-type {\n",
              "        vertical-align: middle;\n",
              "    }\n",
              "\n",
              "    .dataframe tbody tr th {\n",
              "        vertical-align: top;\n",
              "    }\n",
              "\n",
              "    .dataframe thead th {\n",
              "        text-align: right;\n",
              "    }\n",
              "</style>\n",
              "<table border=\"1\" class=\"dataframe\">\n",
              "  <thead>\n",
              "    <tr style=\"text-align: right;\">\n",
              "      <th></th>\n",
              "      <th>loan_size</th>\n",
              "      <th>interest_rate</th>\n",
              "      <th>borrower_income</th>\n",
              "      <th>debt_to_income</th>\n",
              "      <th>num_of_accounts</th>\n",
              "      <th>derogatory_marks</th>\n",
              "      <th>total_debt</th>\n",
              "      <th>loan_status</th>\n",
              "    </tr>\n",
              "  </thead>\n",
              "  <tbody>\n",
              "    <tr>\n",
              "      <th>0</th>\n",
              "      <td>10700.0</td>\n",
              "      <td>7.672</td>\n",
              "      <td>52800</td>\n",
              "      <td>0.431818</td>\n",
              "      <td>5</td>\n",
              "      <td>1</td>\n",
              "      <td>22800</td>\n",
              "      <td>0</td>\n",
              "    </tr>\n",
              "    <tr>\n",
              "      <th>1</th>\n",
              "      <td>8400.0</td>\n",
              "      <td>6.692</td>\n",
              "      <td>43600</td>\n",
              "      <td>0.311927</td>\n",
              "      <td>3</td>\n",
              "      <td>0</td>\n",
              "      <td>13600</td>\n",
              "      <td>0</td>\n",
              "    </tr>\n",
              "    <tr>\n",
              "      <th>2</th>\n",
              "      <td>9000.0</td>\n",
              "      <td>6.963</td>\n",
              "      <td>46100</td>\n",
              "      <td>0.349241</td>\n",
              "      <td>3</td>\n",
              "      <td>0</td>\n",
              "      <td>16100</td>\n",
              "      <td>0</td>\n",
              "    </tr>\n",
              "    <tr>\n",
              "      <th>3</th>\n",
              "      <td>10700.0</td>\n",
              "      <td>7.664</td>\n",
              "      <td>52700</td>\n",
              "      <td>0.430740</td>\n",
              "      <td>5</td>\n",
              "      <td>1</td>\n",
              "      <td>22700</td>\n",
              "      <td>0</td>\n",
              "    </tr>\n",
              "    <tr>\n",
              "      <th>4</th>\n",
              "      <td>10800.0</td>\n",
              "      <td>7.698</td>\n",
              "      <td>53000</td>\n",
              "      <td>0.433962</td>\n",
              "      <td>5</td>\n",
              "      <td>1</td>\n",
              "      <td>23000</td>\n",
              "      <td>0</td>\n",
              "    </tr>\n",
              "    <tr>\n",
              "      <th>...</th>\n",
              "      <td>...</td>\n",
              "      <td>...</td>\n",
              "      <td>...</td>\n",
              "      <td>...</td>\n",
              "      <td>...</td>\n",
              "      <td>...</td>\n",
              "      <td>...</td>\n",
              "      <td>...</td>\n",
              "    </tr>\n",
              "    <tr>\n",
              "      <th>77531</th>\n",
              "      <td>19100.0</td>\n",
              "      <td>11.261</td>\n",
              "      <td>86600</td>\n",
              "      <td>0.653580</td>\n",
              "      <td>12</td>\n",
              "      <td>2</td>\n",
              "      <td>56600</td>\n",
              "      <td>1</td>\n",
              "    </tr>\n",
              "    <tr>\n",
              "      <th>77532</th>\n",
              "      <td>17700.0</td>\n",
              "      <td>10.662</td>\n",
              "      <td>80900</td>\n",
              "      <td>0.629172</td>\n",
              "      <td>11</td>\n",
              "      <td>2</td>\n",
              "      <td>50900</td>\n",
              "      <td>1</td>\n",
              "    </tr>\n",
              "    <tr>\n",
              "      <th>77533</th>\n",
              "      <td>17600.0</td>\n",
              "      <td>10.595</td>\n",
              "      <td>80300</td>\n",
              "      <td>0.626401</td>\n",
              "      <td>11</td>\n",
              "      <td>2</td>\n",
              "      <td>50300</td>\n",
              "      <td>1</td>\n",
              "    </tr>\n",
              "    <tr>\n",
              "      <th>77534</th>\n",
              "      <td>16300.0</td>\n",
              "      <td>10.068</td>\n",
              "      <td>75300</td>\n",
              "      <td>0.601594</td>\n",
              "      <td>10</td>\n",
              "      <td>2</td>\n",
              "      <td>45300</td>\n",
              "      <td>1</td>\n",
              "    </tr>\n",
              "    <tr>\n",
              "      <th>77535</th>\n",
              "      <td>15600.0</td>\n",
              "      <td>9.742</td>\n",
              "      <td>72300</td>\n",
              "      <td>0.585062</td>\n",
              "      <td>9</td>\n",
              "      <td>2</td>\n",
              "      <td>42300</td>\n",
              "      <td>1</td>\n",
              "    </tr>\n",
              "  </tbody>\n",
              "</table>\n",
              "<p>77536 rows × 8 columns</p>\n",
              "</div>\n",
              "      <button class=\"colab-df-convert\" onclick=\"convertToInteractive('df-03ecd550-fc80-41df-a600-8e8047146949')\"\n",
              "              title=\"Convert this dataframe to an interactive table.\"\n",
              "              style=\"display:none;\">\n",
              "        \n",
              "  <svg xmlns=\"http://www.w3.org/2000/svg\" height=\"24px\"viewBox=\"0 0 24 24\"\n",
              "       width=\"24px\">\n",
              "    <path d=\"M0 0h24v24H0V0z\" fill=\"none\"/>\n",
              "    <path d=\"M18.56 5.44l.94 2.06.94-2.06 2.06-.94-2.06-.94-.94-2.06-.94 2.06-2.06.94zm-11 1L8.5 8.5l.94-2.06 2.06-.94-2.06-.94L8.5 2.5l-.94 2.06-2.06.94zm10 10l.94 2.06.94-2.06 2.06-.94-2.06-.94-.94-2.06-.94 2.06-2.06.94z\"/><path d=\"M17.41 7.96l-1.37-1.37c-.4-.4-.92-.59-1.43-.59-.52 0-1.04.2-1.43.59L10.3 9.45l-7.72 7.72c-.78.78-.78 2.05 0 2.83L4 21.41c.39.39.9.59 1.41.59.51 0 1.02-.2 1.41-.59l7.78-7.78 2.81-2.81c.8-.78.8-2.07 0-2.86zM5.41 20L4 18.59l7.72-7.72 1.47 1.35L5.41 20z\"/>\n",
              "  </svg>\n",
              "      </button>\n",
              "      \n",
              "  <style>\n",
              "    .colab-df-container {\n",
              "      display:flex;\n",
              "      flex-wrap:wrap;\n",
              "      gap: 12px;\n",
              "    }\n",
              "\n",
              "    .colab-df-convert {\n",
              "      background-color: #E8F0FE;\n",
              "      border: none;\n",
              "      border-radius: 50%;\n",
              "      cursor: pointer;\n",
              "      display: none;\n",
              "      fill: #1967D2;\n",
              "      height: 32px;\n",
              "      padding: 0 0 0 0;\n",
              "      width: 32px;\n",
              "    }\n",
              "\n",
              "    .colab-df-convert:hover {\n",
              "      background-color: #E2EBFA;\n",
              "      box-shadow: 0px 1px 2px rgba(60, 64, 67, 0.3), 0px 1px 3px 1px rgba(60, 64, 67, 0.15);\n",
              "      fill: #174EA6;\n",
              "    }\n",
              "\n",
              "    [theme=dark] .colab-df-convert {\n",
              "      background-color: #3B4455;\n",
              "      fill: #D2E3FC;\n",
              "    }\n",
              "\n",
              "    [theme=dark] .colab-df-convert:hover {\n",
              "      background-color: #434B5C;\n",
              "      box-shadow: 0px 1px 3px 1px rgba(0, 0, 0, 0.15);\n",
              "      filter: drop-shadow(0px 1px 2px rgba(0, 0, 0, 0.3));\n",
              "      fill: #FFFFFF;\n",
              "    }\n",
              "  </style>\n",
              "\n",
              "      <script>\n",
              "        const buttonEl =\n",
              "          document.querySelector('#df-03ecd550-fc80-41df-a600-8e8047146949 button.colab-df-convert');\n",
              "        buttonEl.style.display =\n",
              "          google.colab.kernel.accessAllowed ? 'block' : 'none';\n",
              "\n",
              "        async function convertToInteractive(key) {\n",
              "          const element = document.querySelector('#df-03ecd550-fc80-41df-a600-8e8047146949');\n",
              "          const dataTable =\n",
              "            await google.colab.kernel.invokeFunction('convertToInteractive',\n",
              "                                                     [key], {});\n",
              "          if (!dataTable) return;\n",
              "\n",
              "          const docLinkHtml = 'Like what you see? Visit the ' +\n",
              "            '<a target=\"_blank\" href=https://colab.research.google.com/notebooks/data_table.ipynb>data table notebook</a>'\n",
              "            + ' to learn more about interactive tables.';\n",
              "          element.innerHTML = '';\n",
              "          dataTable['output_type'] = 'display_data';\n",
              "          await google.colab.output.renderOutput(dataTable, element);\n",
              "          const docLink = document.createElement('div');\n",
              "          docLink.innerHTML = docLinkHtml;\n",
              "          element.appendChild(docLink);\n",
              "        }\n",
              "      </script>\n",
              "    </div>\n",
              "  </div>\n",
              "  "
            ]
          },
          "metadata": {},
          "execution_count": 2
        }
      ],
      "source": [
        "# Read the CSV file from the Resources folder into a Pandas DataFrame\n",
        "lending_df = pd.read_csv('Resources/lending_data.csv')\n",
        "\n",
        "# Review the DataFrame\n",
        "lending_df"
      ]
    },
    {
      "cell_type": "markdown",
      "metadata": {
        "id": "GHc8HQOLmQ8R"
      },
      "source": [
        "### Step 2: Create the labels set (`y`)  from the “loan_status” column, and then create the features (`X`) DataFrame from the remaining columns."
      ]
    },
    {
      "cell_type": "code",
      "execution_count": 3,
      "metadata": {
        "id": "R6xNAv9nmQ8R"
      },
      "outputs": [],
      "source": [
        "# Separate the data into labels and features\n",
        "# Separate the y variable, the labels\n",
        "y = lending_df.loan_status\n",
        "# Separate the X variable, the features\n",
        "X = lending_df.drop(columns='loan_status')"
      ]
    },
    {
      "cell_type": "code",
      "execution_count": 4,
      "metadata": {
        "colab": {
          "base_uri": "https://localhost:8080/"
        },
        "id": "WHCnmguMmQ8S",
        "outputId": "703a80fb-af4c-4951-f9a3-3eeda2175bc5"
      },
      "outputs": [
        {
          "output_type": "execute_result",
          "data": {
            "text/plain": [
              "0        0\n",
              "1        0\n",
              "2        0\n",
              "3        0\n",
              "4        0\n",
              "        ..\n",
              "77531    1\n",
              "77532    1\n",
              "77533    1\n",
              "77534    1\n",
              "77535    1\n",
              "Name: loan_status, Length: 77536, dtype: int64"
            ]
          },
          "metadata": {},
          "execution_count": 4
        }
      ],
      "source": [
        "# Review the y variable Series\n",
        "y"
      ]
    },
    {
      "cell_type": "code",
      "execution_count": 5,
      "metadata": {
        "colab": {
          "base_uri": "https://localhost:8080/",
          "height": 424
        },
        "id": "7rWm5Y7NmQ8S",
        "outputId": "725db4e4-7714-4b74-9a34-e15df5ec1b0a"
      },
      "outputs": [
        {
          "output_type": "execute_result",
          "data": {
            "text/plain": [
              "       loan_size  interest_rate  borrower_income  debt_to_income  \\\n",
              "0        10700.0          7.672            52800        0.431818   \n",
              "1         8400.0          6.692            43600        0.311927   \n",
              "2         9000.0          6.963            46100        0.349241   \n",
              "3        10700.0          7.664            52700        0.430740   \n",
              "4        10800.0          7.698            53000        0.433962   \n",
              "...          ...            ...              ...             ...   \n",
              "77531    19100.0         11.261            86600        0.653580   \n",
              "77532    17700.0         10.662            80900        0.629172   \n",
              "77533    17600.0         10.595            80300        0.626401   \n",
              "77534    16300.0         10.068            75300        0.601594   \n",
              "77535    15600.0          9.742            72300        0.585062   \n",
              "\n",
              "       num_of_accounts  derogatory_marks  total_debt  \n",
              "0                    5                 1       22800  \n",
              "1                    3                 0       13600  \n",
              "2                    3                 0       16100  \n",
              "3                    5                 1       22700  \n",
              "4                    5                 1       23000  \n",
              "...                ...               ...         ...  \n",
              "77531               12                 2       56600  \n",
              "77532               11                 2       50900  \n",
              "77533               11                 2       50300  \n",
              "77534               10                 2       45300  \n",
              "77535                9                 2       42300  \n",
              "\n",
              "[77536 rows x 7 columns]"
            ],
            "text/html": [
              "\n",
              "  <div id=\"df-96ad0cf3-07d9-460c-af80-f9902f3235ca\">\n",
              "    <div class=\"colab-df-container\">\n",
              "      <div>\n",
              "<style scoped>\n",
              "    .dataframe tbody tr th:only-of-type {\n",
              "        vertical-align: middle;\n",
              "    }\n",
              "\n",
              "    .dataframe tbody tr th {\n",
              "        vertical-align: top;\n",
              "    }\n",
              "\n",
              "    .dataframe thead th {\n",
              "        text-align: right;\n",
              "    }\n",
              "</style>\n",
              "<table border=\"1\" class=\"dataframe\">\n",
              "  <thead>\n",
              "    <tr style=\"text-align: right;\">\n",
              "      <th></th>\n",
              "      <th>loan_size</th>\n",
              "      <th>interest_rate</th>\n",
              "      <th>borrower_income</th>\n",
              "      <th>debt_to_income</th>\n",
              "      <th>num_of_accounts</th>\n",
              "      <th>derogatory_marks</th>\n",
              "      <th>total_debt</th>\n",
              "    </tr>\n",
              "  </thead>\n",
              "  <tbody>\n",
              "    <tr>\n",
              "      <th>0</th>\n",
              "      <td>10700.0</td>\n",
              "      <td>7.672</td>\n",
              "      <td>52800</td>\n",
              "      <td>0.431818</td>\n",
              "      <td>5</td>\n",
              "      <td>1</td>\n",
              "      <td>22800</td>\n",
              "    </tr>\n",
              "    <tr>\n",
              "      <th>1</th>\n",
              "      <td>8400.0</td>\n",
              "      <td>6.692</td>\n",
              "      <td>43600</td>\n",
              "      <td>0.311927</td>\n",
              "      <td>3</td>\n",
              "      <td>0</td>\n",
              "      <td>13600</td>\n",
              "    </tr>\n",
              "    <tr>\n",
              "      <th>2</th>\n",
              "      <td>9000.0</td>\n",
              "      <td>6.963</td>\n",
              "      <td>46100</td>\n",
              "      <td>0.349241</td>\n",
              "      <td>3</td>\n",
              "      <td>0</td>\n",
              "      <td>16100</td>\n",
              "    </tr>\n",
              "    <tr>\n",
              "      <th>3</th>\n",
              "      <td>10700.0</td>\n",
              "      <td>7.664</td>\n",
              "      <td>52700</td>\n",
              "      <td>0.430740</td>\n",
              "      <td>5</td>\n",
              "      <td>1</td>\n",
              "      <td>22700</td>\n",
              "    </tr>\n",
              "    <tr>\n",
              "      <th>4</th>\n",
              "      <td>10800.0</td>\n",
              "      <td>7.698</td>\n",
              "      <td>53000</td>\n",
              "      <td>0.433962</td>\n",
              "      <td>5</td>\n",
              "      <td>1</td>\n",
              "      <td>23000</td>\n",
              "    </tr>\n",
              "    <tr>\n",
              "      <th>...</th>\n",
              "      <td>...</td>\n",
              "      <td>...</td>\n",
              "      <td>...</td>\n",
              "      <td>...</td>\n",
              "      <td>...</td>\n",
              "      <td>...</td>\n",
              "      <td>...</td>\n",
              "    </tr>\n",
              "    <tr>\n",
              "      <th>77531</th>\n",
              "      <td>19100.0</td>\n",
              "      <td>11.261</td>\n",
              "      <td>86600</td>\n",
              "      <td>0.653580</td>\n",
              "      <td>12</td>\n",
              "      <td>2</td>\n",
              "      <td>56600</td>\n",
              "    </tr>\n",
              "    <tr>\n",
              "      <th>77532</th>\n",
              "      <td>17700.0</td>\n",
              "      <td>10.662</td>\n",
              "      <td>80900</td>\n",
              "      <td>0.629172</td>\n",
              "      <td>11</td>\n",
              "      <td>2</td>\n",
              "      <td>50900</td>\n",
              "    </tr>\n",
              "    <tr>\n",
              "      <th>77533</th>\n",
              "      <td>17600.0</td>\n",
              "      <td>10.595</td>\n",
              "      <td>80300</td>\n",
              "      <td>0.626401</td>\n",
              "      <td>11</td>\n",
              "      <td>2</td>\n",
              "      <td>50300</td>\n",
              "    </tr>\n",
              "    <tr>\n",
              "      <th>77534</th>\n",
              "      <td>16300.0</td>\n",
              "      <td>10.068</td>\n",
              "      <td>75300</td>\n",
              "      <td>0.601594</td>\n",
              "      <td>10</td>\n",
              "      <td>2</td>\n",
              "      <td>45300</td>\n",
              "    </tr>\n",
              "    <tr>\n",
              "      <th>77535</th>\n",
              "      <td>15600.0</td>\n",
              "      <td>9.742</td>\n",
              "      <td>72300</td>\n",
              "      <td>0.585062</td>\n",
              "      <td>9</td>\n",
              "      <td>2</td>\n",
              "      <td>42300</td>\n",
              "    </tr>\n",
              "  </tbody>\n",
              "</table>\n",
              "<p>77536 rows × 7 columns</p>\n",
              "</div>\n",
              "      <button class=\"colab-df-convert\" onclick=\"convertToInteractive('df-96ad0cf3-07d9-460c-af80-f9902f3235ca')\"\n",
              "              title=\"Convert this dataframe to an interactive table.\"\n",
              "              style=\"display:none;\">\n",
              "        \n",
              "  <svg xmlns=\"http://www.w3.org/2000/svg\" height=\"24px\"viewBox=\"0 0 24 24\"\n",
              "       width=\"24px\">\n",
              "    <path d=\"M0 0h24v24H0V0z\" fill=\"none\"/>\n",
              "    <path d=\"M18.56 5.44l.94 2.06.94-2.06 2.06-.94-2.06-.94-.94-2.06-.94 2.06-2.06.94zm-11 1L8.5 8.5l.94-2.06 2.06-.94-2.06-.94L8.5 2.5l-.94 2.06-2.06.94zm10 10l.94 2.06.94-2.06 2.06-.94-2.06-.94-.94-2.06-.94 2.06-2.06.94z\"/><path d=\"M17.41 7.96l-1.37-1.37c-.4-.4-.92-.59-1.43-.59-.52 0-1.04.2-1.43.59L10.3 9.45l-7.72 7.72c-.78.78-.78 2.05 0 2.83L4 21.41c.39.39.9.59 1.41.59.51 0 1.02-.2 1.41-.59l7.78-7.78 2.81-2.81c.8-.78.8-2.07 0-2.86zM5.41 20L4 18.59l7.72-7.72 1.47 1.35L5.41 20z\"/>\n",
              "  </svg>\n",
              "      </button>\n",
              "      \n",
              "  <style>\n",
              "    .colab-df-container {\n",
              "      display:flex;\n",
              "      flex-wrap:wrap;\n",
              "      gap: 12px;\n",
              "    }\n",
              "\n",
              "    .colab-df-convert {\n",
              "      background-color: #E8F0FE;\n",
              "      border: none;\n",
              "      border-radius: 50%;\n",
              "      cursor: pointer;\n",
              "      display: none;\n",
              "      fill: #1967D2;\n",
              "      height: 32px;\n",
              "      padding: 0 0 0 0;\n",
              "      width: 32px;\n",
              "    }\n",
              "\n",
              "    .colab-df-convert:hover {\n",
              "      background-color: #E2EBFA;\n",
              "      box-shadow: 0px 1px 2px rgba(60, 64, 67, 0.3), 0px 1px 3px 1px rgba(60, 64, 67, 0.15);\n",
              "      fill: #174EA6;\n",
              "    }\n",
              "\n",
              "    [theme=dark] .colab-df-convert {\n",
              "      background-color: #3B4455;\n",
              "      fill: #D2E3FC;\n",
              "    }\n",
              "\n",
              "    [theme=dark] .colab-df-convert:hover {\n",
              "      background-color: #434B5C;\n",
              "      box-shadow: 0px 1px 3px 1px rgba(0, 0, 0, 0.15);\n",
              "      filter: drop-shadow(0px 1px 2px rgba(0, 0, 0, 0.3));\n",
              "      fill: #FFFFFF;\n",
              "    }\n",
              "  </style>\n",
              "\n",
              "      <script>\n",
              "        const buttonEl =\n",
              "          document.querySelector('#df-96ad0cf3-07d9-460c-af80-f9902f3235ca button.colab-df-convert');\n",
              "        buttonEl.style.display =\n",
              "          google.colab.kernel.accessAllowed ? 'block' : 'none';\n",
              "\n",
              "        async function convertToInteractive(key) {\n",
              "          const element = document.querySelector('#df-96ad0cf3-07d9-460c-af80-f9902f3235ca');\n",
              "          const dataTable =\n",
              "            await google.colab.kernel.invokeFunction('convertToInteractive',\n",
              "                                                     [key], {});\n",
              "          if (!dataTable) return;\n",
              "\n",
              "          const docLinkHtml = 'Like what you see? Visit the ' +\n",
              "            '<a target=\"_blank\" href=https://colab.research.google.com/notebooks/data_table.ipynb>data table notebook</a>'\n",
              "            + ' to learn more about interactive tables.';\n",
              "          element.innerHTML = '';\n",
              "          dataTable['output_type'] = 'display_data';\n",
              "          await google.colab.output.renderOutput(dataTable, element);\n",
              "          const docLink = document.createElement('div');\n",
              "          docLink.innerHTML = docLinkHtml;\n",
              "          element.appendChild(docLink);\n",
              "        }\n",
              "      </script>\n",
              "    </div>\n",
              "  </div>\n",
              "  "
            ]
          },
          "metadata": {},
          "execution_count": 5
        }
      ],
      "source": [
        "# Review the X variable DataFrame\n",
        "X"
      ]
    },
    {
      "cell_type": "markdown",
      "metadata": {
        "id": "QQHbf7g3mQ8S"
      },
      "source": [
        "### Step 3: Check the balance of the labels variable (`y`) by using the `value_counts` function."
      ]
    },
    {
      "cell_type": "code",
      "execution_count": 6,
      "metadata": {
        "colab": {
          "base_uri": "https://localhost:8080/"
        },
        "id": "v39XqB-7mQ8T",
        "outputId": "ced26faf-dff8-4a83-a222-2cf1b09c5c08"
      },
      "outputs": [
        {
          "output_type": "execute_result",
          "data": {
            "text/plain": [
              "0    75036\n",
              "1     2500\n",
              "Name: loan_status, dtype: int64"
            ]
          },
          "metadata": {},
          "execution_count": 6
        }
      ],
      "source": [
        "# Check the balance of our target values\n",
        "y.value_counts()"
      ]
    },
    {
      "cell_type": "markdown",
      "metadata": {
        "id": "pukX8Kz9mQ8T"
      },
      "source": [
        "### Step 4: Split the data into training and testing datasets by using `train_test_split`."
      ]
    },
    {
      "cell_type": "code",
      "execution_count": 11,
      "metadata": {
        "id": "QQ3Gd4sUmQ8T"
      },
      "outputs": [],
      "source": [
        "# Import the train_test_learn module\n",
        "from sklearn.model_selection import train_test_split\n",
        "\n",
        "# Split the data using train_test_split\n",
        "# Assign a random_state of 1 to the function\n",
        "X_train, X_test, y_train, y_test = train_test_split(X, y, random_state=1, stratify=y)"
      ]
    },
    {
      "cell_type": "markdown",
      "metadata": {
        "id": "XLZOaHPFmQ8T"
      },
      "source": [
        "---"
      ]
    },
    {
      "cell_type": "markdown",
      "metadata": {
        "id": "Dxc-pB8BmQ8T"
      },
      "source": [
        "## Create a Logistic Regression Model with the Original Data"
      ]
    },
    {
      "cell_type": "markdown",
      "metadata": {
        "id": "M1TIWI_EmQ8T"
      },
      "source": [
        "###  Step 1: Fit a logistic regression model by using the training data (`X_train` and `y_train`)."
      ]
    },
    {
      "cell_type": "code",
      "execution_count": 12,
      "metadata": {
        "colab": {
          "base_uri": "https://localhost:8080/"
        },
        "id": "DqXAqI_smQ8U",
        "outputId": "6211026a-8928-4f58-d500-b45517842207"
      },
      "outputs": [
        {
          "output_type": "execute_result",
          "data": {
            "text/plain": [
              "LogisticRegression(random_state=1)"
            ]
          },
          "metadata": {},
          "execution_count": 12
        }
      ],
      "source": [
        "# Import the LogisticRegression module from SKLearn\n",
        "from sklearn.linear_model import LogisticRegression\n",
        "\n",
        "# Instantiate the Logistic Regression model\n",
        "# Assign a random_state parameter of 1 to the model\n",
        "model_logit = LogisticRegression(random_state=1)\n",
        "\n",
        "# Fit the model using training data\n",
        "model_logit.fit(X_train, y_train)"
      ]
    },
    {
      "cell_type": "markdown",
      "metadata": {
        "id": "ukWlOKlrmQ8U"
      },
      "source": [
        "### Step 2: Save the predictions on the testing data labels by using the testing feature data (`X_test`) and the fitted model."
      ]
    },
    {
      "cell_type": "code",
      "execution_count": 13,
      "metadata": {
        "id": "-oWAiCY0mQ8U"
      },
      "outputs": [],
      "source": [
        "# Make a prediction using the testing data\n",
        "y_pred_logit = model_logit.predict(X_test)"
      ]
    },
    {
      "cell_type": "markdown",
      "metadata": {
        "id": "2eA-MIbDmQ8U"
      },
      "source": [
        "### Step 3: Evaluate the model’s performance by doing the following:\n",
        "\n",
        "* Calculate the accuracy score of the model.\n",
        "\n",
        "* Generate a confusion matrix.\n",
        "\n",
        "* Print the classification report."
      ]
    },
    {
      "cell_type": "code",
      "execution_count": 15,
      "metadata": {
        "colab": {
          "base_uri": "https://localhost:8080/"
        },
        "id": "VqXK8STomQ8U",
        "outputId": "e8b04f86-2e8c-4b44-8142-976cebbe8df3"
      },
      "outputs": [
        {
          "output_type": "execute_result",
          "data": {
            "text/plain": [
              "0.9442676901753825"
            ]
          },
          "metadata": {},
          "execution_count": 15
        }
      ],
      "source": [
        "# Print the balanced_accuracy score of the model\n",
        "balanced_accuracy_score(y_test, y_pred_logit)"
      ]
    },
    {
      "cell_type": "code",
      "execution_count": 16,
      "metadata": {
        "colab": {
          "base_uri": "https://localhost:8080/"
        },
        "id": "lZ8d0dm8mQ8U",
        "outputId": "8541c3e4-c7a1-4f68-c8d0-453247dbaf9b"
      },
      "outputs": [
        {
          "output_type": "execute_result",
          "data": {
            "text/plain": [
              "array([[18679,    80],\n",
              "       [   67,   558]])"
            ]
          },
          "metadata": {},
          "execution_count": 16
        }
      ],
      "source": [
        "# Generate a confusion matrix for the model\n",
        "confusion_matrix(y_test, y_pred_logit)"
      ]
    },
    {
      "cell_type": "code",
      "execution_count": 18,
      "metadata": {
        "colab": {
          "base_uri": "https://localhost:8080/"
        },
        "id": "hw-sMCqUmQ8V",
        "outputId": "d6d1e7d2-7411-47df-d402-d9ebfccb3a52"
      },
      "outputs": [
        {
          "output_type": "stream",
          "name": "stdout",
          "text": [
            "                   pre       rec       spe        f1       geo       iba       sup\n",
            "\n",
            "          0       1.00      1.00      0.89      1.00      0.94      0.90     18759\n",
            "          1       0.87      0.89      1.00      0.88      0.94      0.88       625\n",
            "\n",
            "avg / total       0.99      0.99      0.90      0.99      0.94      0.90     19384\n",
            "\n"
          ]
        }
      ],
      "source": [
        "# Print the classification report for the model\n",
        "print(classification_report_imbalanced(y_test, y_pred_logit))\n"
      ]
    },
    {
      "cell_type": "markdown",
      "metadata": {
        "id": "s25oIPpxmQ8V"
      },
      "source": [
        "### Step 4: Answer the following question."
      ]
    },
    {
      "cell_type": "markdown",
      "metadata": {
        "id": "Tyo4KBiZmQ8V"
      },
      "source": [
        "**Question:** How well does the logistic regression model predict both the `0` (healthy loan) and `1` (high-risk loan) labels?\n",
        "\n",
        "**Answer:** The logistic regression model predicts the healthy loans very well with F1=1.00, but not as well on the minority category of high-risk loans, with F1=0.88."
      ]
    },
    {
      "cell_type": "markdown",
      "metadata": {
        "id": "Y6QVZJ-jmQ8V"
      },
      "source": [
        "---"
      ]
    },
    {
      "cell_type": "markdown",
      "metadata": {
        "id": "EQW5XRF7mQ8V"
      },
      "source": [
        "## Predict a Logistic Regression Model with Resampled Training Data"
      ]
    },
    {
      "cell_type": "markdown",
      "metadata": {
        "id": "dx-NtNzEmQ8V"
      },
      "source": [
        "### Step 1: Use the `RandomOverSampler` module from the imbalanced-learn library to resample the data. Be sure to confirm that the labels have an equal number of data points. "
      ]
    },
    {
      "cell_type": "code",
      "execution_count": 24,
      "metadata": {
        "id": "CDmChD0rmQ8V"
      },
      "outputs": [],
      "source": [
        "# Import the RandomOverSampler module form imbalanced-learn\n",
        "from imblearn.over_sampling import RandomOverSampler\n",
        "\n",
        "# Instantiate the random oversampler model\n",
        "# # Assign a random_state parameter of 1 to the model\n",
        "ros = RandomOverSampler(random_state=1)\n",
        "\n",
        "# Fit the original training data to the random_oversampler model\n",
        "X_train_resample, y_train_resample = ros.fit_resample(X_train, y_train)"
      ]
    },
    {
      "cell_type": "code",
      "execution_count": 25,
      "metadata": {
        "colab": {
          "base_uri": "https://localhost:8080/"
        },
        "id": "1nux4QdYmQ8V",
        "outputId": "25e98084-3fe2-4d54-bf38-d642066de41a"
      },
      "outputs": [
        {
          "output_type": "execute_result",
          "data": {
            "text/plain": [
              "0    56277\n",
              "1    56277\n",
              "Name: loan_status, dtype: int64"
            ]
          },
          "metadata": {},
          "execution_count": 25
        }
      ],
      "source": [
        "# Count the distinct values of the resampled labels data\n",
        "y_train_resample.value_counts()"
      ]
    },
    {
      "cell_type": "markdown",
      "metadata": {
        "id": "yj-tFUo2mQ8V"
      },
      "source": [
        "### Step 2: Use the `LogisticRegression` classifier and the resampled data to fit the model and make predictions."
      ]
    },
    {
      "cell_type": "code",
      "execution_count": 31,
      "metadata": {
        "id": "ZtSSp6NNmQ8V"
      },
      "outputs": [],
      "source": [
        "# Instantiate the Logistic Regression model\n",
        "# Assign a random_state parameter of 1 to the model\n",
        "model_logit_resample = LogisticRegression(random_state=1)\n",
        "# Fit the model using the resampled training data\n",
        "model_logit_resample.fit(X_train_resample, y_train_resample)\n",
        "# Make a prediction using the testing data\n",
        "y_pred_logit_resample = model_logit_resample.predict(X_test)"
      ]
    },
    {
      "cell_type": "markdown",
      "metadata": {
        "id": "CHpO1AZHmQ8V"
      },
      "source": [
        "### Step 3: Evaluate the model’s performance by doing the following:\n",
        "\n",
        "* Calculate the accuracy score of the model.\n",
        "\n",
        "* Generate a confusion matrix.\n",
        "\n",
        "* Print the classification report."
      ]
    },
    {
      "cell_type": "code",
      "execution_count": 32,
      "metadata": {
        "colab": {
          "base_uri": "https://localhost:8080/"
        },
        "id": "Bh8QIZkCmQ8V",
        "outputId": "bc9b92b0-8209-4f29-d5d0-555c3a7a7994"
      },
      "outputs": [
        {
          "output_type": "execute_result",
          "data": {
            "text/plain": [
              "0.9959744975744975"
            ]
          },
          "metadata": {},
          "execution_count": 32
        }
      ],
      "source": [
        "# Print the balanced_accuracy score of the model \n",
        "balanced_accuracy_score(y_test, y_pred_logit_resample)"
      ]
    },
    {
      "cell_type": "code",
      "execution_count": 33,
      "metadata": {
        "colab": {
          "base_uri": "https://localhost:8080/"
        },
        "id": "YLcM3EMOmQ8W",
        "outputId": "b8bb863a-e5af-4f06-e609-96f397e11f89"
      },
      "outputs": [
        {
          "output_type": "execute_result",
          "data": {
            "text/plain": [
              "array([[18668,    91],\n",
              "       [    2,   623]])"
            ]
          },
          "metadata": {},
          "execution_count": 33
        }
      ],
      "source": [
        "# Generate a confusion matrix for the model\n",
        "confusion_matrix(y_test, y_pred_logit_resample)"
      ]
    },
    {
      "cell_type": "code",
      "execution_count": 34,
      "metadata": {
        "colab": {
          "base_uri": "https://localhost:8080/"
        },
        "id": "GYvkjjRImQ8W",
        "outputId": "a6aa6388-2c77-491f-c5c0-22d6eeaaf9ce"
      },
      "outputs": [
        {
          "output_type": "stream",
          "name": "stdout",
          "text": [
            "                   pre       rec       spe        f1       geo       iba       sup\n",
            "\n",
            "          0       1.00      1.00      1.00      1.00      1.00      0.99     18759\n",
            "          1       0.87      1.00      1.00      0.93      1.00      0.99       625\n",
            "\n",
            "avg / total       1.00      1.00      1.00      1.00      1.00      0.99     19384\n",
            "\n"
          ]
        }
      ],
      "source": [
        "# Print the classification report for the model\n",
        "print(classification_report_imbalanced(y_test, y_pred_logit_resample))"
      ]
    },
    {
      "cell_type": "markdown",
      "metadata": {
        "id": "C7698ntumQ8W"
      },
      "source": [
        "### Step 4: Answer the following question"
      ]
    },
    {
      "cell_type": "markdown",
      "metadata": {
        "id": "1Wug5p9LmQ8W"
      },
      "source": [
        "**Question:** How well does the logistic regression model, fit with oversampled data, predict both the `0` (healthy loan) and `1` (high-risk loan) labels?\n",
        "\n",
        "**Answer:** This model does effectively equally as well as the previous model on healthy loans, but now with a much better performance with high-risk loans with F1=0.93."
      ]
    },
    {
      "cell_type": "code",
      "source": [],
      "metadata": {
        "id": "-uesWMvfpYkL"
      },
      "execution_count": null,
      "outputs": []
    }
  ],
  "metadata": {
    "kernelspec": {
      "display_name": "Python 3",
      "language": "python",
      "name": "python3"
    },
    "language_info": {
      "codemirror_mode": {
        "name": "ipython",
        "version": 3
      },
      "file_extension": ".py",
      "mimetype": "text/x-python",
      "name": "python",
      "nbconvert_exporter": "python",
      "pygments_lexer": "ipython3",
      "version": "3.7.7"
    },
    "colab": {
      "provenance": [],
      "collapsed_sections": []
    }
  },
  "nbformat": 4,
  "nbformat_minor": 0
}